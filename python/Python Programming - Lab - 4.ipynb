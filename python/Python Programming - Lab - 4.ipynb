{
 "cells": [
  {
   "cell_type": "markdown",
   "metadata": {},
   "source": [
    "\n",
    "<a href='https://www.darshan.ac.in/'> <img src='https://www.darshan.ac.in/Content/media/DU_Logo.svg' width=\"250\" height=\"300\"/></a>\n",
    "<pre>\n",
    "<center><b><h1>Python Programming - 2101CS405</b></center>\n",
    "<center><b><h1>Lab - 4</b></center>    \n",
    "<pre>"
   ]
  },
  {
   "cell_type": "markdown",
   "metadata": {},
   "source": [
    "# String"
   ]
  },
  {
   "cell_type": "markdown",
   "metadata": {},
   "source": [
    "### 01) WAP to check given string is palindrome or not."
   ]
  },
  {
   "cell_type": "code",
   "execution_count": 7,
   "metadata": {},
   "outputs": [
    {
     "name": "stdout",
     "output_type": "stream",
     "text": [
      "enter string :nan\n",
      "string is palindrom\n"
     ]
    }
   ],
   "source": [
    "a=input(\"enter string :\")\n",
    "b=a[-1::-1]\n",
    "if a==b:\n",
    "    print(\"string is palindrom\")\n",
    "else:\n",
    "    print(\"string is not palindrom\")\n"
   ]
  },
  {
   "cell_type": "code",
   "execution_count": null,
   "metadata": {},
   "outputs": [],
   "source": []
  },
  {
   "cell_type": "markdown",
   "metadata": {},
   "source": [
    "### 02) WAP to reverse the words in given string."
   ]
  },
  {
   "cell_type": "code",
   "execution_count": 2,
   "metadata": {},
   "outputs": [
    {
     "name": "stdout",
     "output_type": "stream",
     "text": [
      "enter string :darshan\n",
      "nahsrad\n"
     ]
    }
   ],
   "source": [
    "a=input(\"enter string :\")\n",
    "b=a[::-1]\n",
    "print(b)"
   ]
  },
  {
   "cell_type": "markdown",
   "metadata": {},
   "source": [
    "### 03) WAP to remove ith character from given string"
   ]
  },
  {
   "cell_type": "code",
   "execution_count": 6,
   "metadata": {},
   "outputs": [
    {
     "name": "stdout",
     "output_type": "stream",
     "text": [
      "enter string :darshan\n",
      "enter ith index for remove4\n",
      "darsan\n"
     ]
    }
   ],
   "source": [
    "a=input(\"enter string :\")\n",
    "i=int(input(\"enter ith index for remove\"))\n",
    "print(a[:i:]+a[i+1::])"
   ]
  },
  {
   "cell_type": "markdown",
   "metadata": {},
   "source": [
    "### 04) WAP to find length of String without using len function."
   ]
  },
  {
   "cell_type": "code",
   "execution_count": 8,
   "metadata": {},
   "outputs": [
    {
     "name": "stdout",
     "output_type": "stream",
     "text": [
      "enter string :darsahn\n",
      "7\n"
     ]
    }
   ],
   "source": [
    "a=input(\"enter string :\")\n",
    "count=0\n",
    "for i in a:\n",
    "    count+=1\n",
    "print(count)"
   ]
  },
  {
   "cell_type": "markdown",
   "metadata": {},
   "source": [
    "### 05) WAP to print even length word in string."
   ]
  },
  {
   "cell_type": "code",
   "execution_count": 9,
   "metadata": {},
   "outputs": [
    {
     "name": "stdout",
     "output_type": "stream",
     "text": [
      "enter stringdarshan\n",
      "asa\n"
     ]
    }
   ],
   "source": [
    "a=input(\"enter string\")\n",
    "print(a[1::2])"
   ]
  },
  {
   "cell_type": "markdown",
   "metadata": {},
   "source": [
    "### 06) WAP to count numbers of vowels in given string."
   ]
  },
  {
   "cell_type": "code",
   "execution_count": 11,
   "metadata": {},
   "outputs": [
    {
     "name": "stdout",
     "output_type": "stream",
     "text": [
      "enter string :darsahn\n",
      "2\n"
     ]
    }
   ],
   "source": [
    "count=0\n",
    "a=input(\"enter string :\").lower()\n",
    "for i in a:\n",
    "    if(i=='a' or i=='e' or i=='o' or i=='u' or i=='i'):\n",
    "        count+=1\n",
    "print(count)\n",
    "        "
   ]
  },
  {
   "cell_type": "markdown",
   "metadata": {},
   "source": [
    "### 07) WAP to convert given array to string."
   ]
  },
  {
   "cell_type": "code",
   "execution_count": 4,
   "metadata": {},
   "outputs": [
    {
     "name": "stdout",
     "output_type": "stream",
     "text": [
      "enter length of array5\n",
      "enter element : s\n",
      "enter element : f\n",
      "enter element : d\n",
      "enter element : f\n",
      "enter element : r\n",
      "sfdfr\n"
     ]
    }
   ],
   "source": [
    "arr=[]\n",
    "str1=\"\"\n",
    "a=int(input(\"enter length of array\"))\n",
    "for i in range(a):\n",
    "    str2=input(\"enter element : \")\n",
    "    arr.append(str2)\n",
    "str1=str1.join(arr)\n",
    "    \n",
    "print(str1)\n",
    "    "
   ]
  },
  {
   "cell_type": "markdown",
   "metadata": {},
   "source": [
    "### 01) WAP to find out duplicate characters in given string."
   ]
  },
  {
   "cell_type": "code",
   "execution_count": 4,
   "metadata": {},
   "outputs": [
    {
     "name": "stdout",
     "output_type": "stream",
     "text": [
      "Enter String: sarang\n",
      "{'a'}\n"
     ]
    }
   ],
   "source": [
    "list = []\n",
    "str1 = input(\"Enter String: \")\n",
    "for i in str1:\n",
    "    if str1.count(i) > 1:\n",
    "        list.append(i)\n",
    "element = set(list)\n",
    "print(element)"
   ]
  },
  {
   "cell_type": "markdown",
   "metadata": {},
   "source": [
    "### 02) WAP to capitalize the first and last character of each word in a string."
   ]
  },
  {
   "cell_type": "code",
   "execution_count": 3,
   "metadata": {},
   "outputs": [
    {
     "name": "stdout",
     "output_type": "stream",
     "text": [
      "Enter String : sarang\n",
      "SaranG\n"
     ]
    }
   ],
   "source": [
    "str1 = input(\"Enter String : \")\n",
    "str1 = str1[0].upper()+str1[1:len(str1)-1]+str1[-1].upper()\n",
    "print(str1)"
   ]
  },
  {
   "cell_type": "markdown",
   "metadata": {},
   "source": [
    "### 03) WAP to find Maximum frequency character in String."
   ]
  },
  {
   "cell_type": "code",
   "execution_count": 1,
   "metadata": {},
   "outputs": [
    {
     "name": "stdout",
     "output_type": "stream",
     "text": [
      "Enter String : sarang\n",
      "a\n"
     ]
    }
   ],
   "source": [
    "str1 = input(\"Enter String : \")\n",
    "frequency = {}\n",
    "for i in str1:\n",
    "    if i in frequency:\n",
    "        frequency[i] = frequency[i] + 1\n",
    "    else:\n",
    "        frequency[i] = 1\n",
    "result = max(frequency, key=frequency.get)\n",
    "print(result)"
   ]
  },
  {
   "cell_type": "markdown",
   "metadata": {},
   "source": [
    "### 04) WAP to find Minimum frequency character in String."
   ]
  },
  {
   "cell_type": "code",
   "execution_count": 2,
   "metadata": {},
   "outputs": [
    {
     "name": "stdout",
     "output_type": "stream",
     "text": [
      "Enter String : yash\n",
      "y\n"
     ]
    }
   ],
   "source": [
    "str1 = input(\"Enter String : \")\n",
    "frequency = {}\n",
    "for i in str1:\n",
    "    if i in frequency:\n",
    "        frequency[i] = frequency[i] + 1\n",
    "    else:\n",
    "        frequency[i] = 1\n",
    "result = min(frequency, key=frequency.get)\n",
    "print(result)"
   ]
  },
  {
   "cell_type": "markdown",
   "metadata": {},
   "source": [
    "### 05) WAP to check if a given string is binary string or not"
   ]
  },
  {
   "cell_type": "code",
   "execution_count": 11,
   "metadata": {},
   "outputs": [
    {
     "name": "stdout",
     "output_type": "stream",
     "text": [
      "enter stringabd0\n",
      "not binary\n"
     ]
    }
   ],
   "source": [
    "a=input(\"enter string\")\n",
    "flag=False\n",
    "for i in a:\n",
    "    if i=='0' or i=='1':\n",
    "        flag=True\n",
    "if flag==True:\n",
    "    print(\"binary\")\n",
    "else:\n",
    "    print(\"not binary\")"
   ]
  },
  {
   "cell_type": "code",
   "execution_count": null,
   "metadata": {},
   "outputs": [],
   "source": []
  }
 ],
 "metadata": {
  "kernelspec": {
   "display_name": "Python 3 (ipykernel)",
   "language": "python",
   "name": "python3"
  },
  "language_info": {
   "codemirror_mode": {
    "name": "ipython",
    "version": 3
   },
   "file_extension": ".py",
   "mimetype": "text/x-python",
   "name": "python",
   "nbconvert_exporter": "python",
   "pygments_lexer": "ipython3",
   "version": "3.9.13"
  }
 },
 "nbformat": 4,
 "nbformat_minor": 4
}
