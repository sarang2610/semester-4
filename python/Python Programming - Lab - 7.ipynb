{
 "cells": [
  {
   "cell_type": "markdown",
   "metadata": {},
   "source": [
    "<a href='https://www.darshan.ac.in/'> <img src='https://www.darshan.ac.in/Content/media/DU_Logo.svg' width=\"250\" height=\"300\"/></a>\n",
    "<pre>\n",
    "<center><b><h1>Python Programming - 2101CS405</b></center>\n",
    "<center><b><h1>Lab - 7</b></center>    \n",
    "<pre>"
   ]
  },
  {
   "cell_type": "markdown",
   "metadata": {},
   "source": [
    "# Functions"
   ]
  },
  {
   "cell_type": "markdown",
   "metadata": {},
   "source": [
    "### 01) WAP to count simple interest using function."
   ]
  },
  {
   "cell_type": "code",
   "execution_count": 1,
   "metadata": {},
   "outputs": [
    {
     "name": "stdout",
     "output_type": "stream",
     "text": [
      "Enter P : 1000000\n",
      "Enter R : 2\n",
      "Enter N : 1\n",
      "20000.0\n"
     ]
    }
   ],
   "source": [
    "p = int(input(\"Enter P : \"))\n",
    "r = int(input(\"Enter R : \"))\n",
    "n = int(input(\"Enter N : \"))\n",
    "ans = lambda p,r,n : p*r*n/100\n",
    "print(ans(p,r,n))"
   ]
  },
  {
   "cell_type": "markdown",
   "metadata": {},
   "source": [
    "### 02) WAP that defines a function to add first n numbers."
   ]
  },
  {
   "cell_type": "code",
   "execution_count": 1,
   "metadata": {},
   "outputs": [
    {
     "name": "stdout",
     "output_type": "stream",
     "text": [
      "Enter N : 10\n",
      "55\n"
     ]
    }
   ],
   "source": [
    "n = int(input(\"Enter N : \"))\n",
    "ans = lambda n : sum(range(n+1))\n",
    "print(ans(n))"
   ]
  },
  {
   "cell_type": "markdown",
   "metadata": {},
   "source": [
    "### 03) WAP to find maximum number from given two numbers using function."
   ]
  },
  {
   "cell_type": "code",
   "execution_count": 2,
   "metadata": {},
   "outputs": [
    {
     "name": "stdout",
     "output_type": "stream",
     "text": [
      "Enter A : 10\n",
      "Enter B : 20\n",
      "20\n"
     ]
    }
   ],
   "source": [
    "a = int(input(\"Enter A : \"))\n",
    "b = int(input(\"Enter B : \"))\n",
    "ans = lambda a,b : max(a,b)\n",
    "print(ans(a,b))"
   ]
  },
  {
   "cell_type": "markdown",
   "metadata": {},
   "source": [
    "### 04) WAP that defines a function which returns 1 if the number is prime otherwise return 0."
   ]
  },
  {
   "cell_type": "code",
   "execution_count": 3,
   "metadata": {},
   "outputs": [
    {
     "name": "stdout",
     "output_type": "stream",
     "text": [
      "Enter Number : 4\n",
      "0\n"
     ]
    }
   ],
   "source": [
    "n = int(input(\"Enter Number : \"))\n",
    "def prime(n):\n",
    "    for i in range(2,n//2+1):\n",
    "        if n%i==0:\n",
    "            return 0\n",
    "    return 1\n",
    "print(prime(n))"
   ]
  },
  {
   "cell_type": "markdown",
   "metadata": {},
   "source": [
    "### 05) Write a function called primes that takes an integer value as an argument and returns a list of all prime numbers up to that number."
   ]
  },
  {
   "cell_type": "code",
   "execution_count": null,
   "metadata": {},
   "outputs": [
    {
     "name": "stdout",
     "output_type": "stream",
     "text": [
      "Enter Number : 10\n"
     ]
    }
   ],
   "source": [
    "n = int(input(\"Enter Number : \"))\n",
    "list1 = []\n",
    "def primes(n):\n",
    "    for i in range(2,n+1):\n",
    "        if primes(i)==1: \n",
    "            list1.append(i)\n",
    "    return list1\n",
    "\n",
    "print(primes(n))"
   ]
  },
  {
   "cell_type": "markdown",
   "metadata": {},
   "source": [
    "### 06) WAP to generate Fibonacci series of N given number using function name fibbo. (e.g. 0 1 1 2 3 5 8...)"
   ]
  },
  {
   "cell_type": "code",
   "execution_count": 11,
   "metadata": {},
   "outputs": [
    {
     "name": "stdout",
     "output_type": "stream",
     "text": [
      "Enter Number : 6\n",
      "0,1,1,2,3,5,8,"
     ]
    }
   ],
   "source": [
    "n = int(input(\"Enter Number : \"))\n",
    "def fibonacci(n):\n",
    "    for i in range(n+1):\n",
    "        if n<=1:\n",
    "            return n;\n",
    "        return fibonacci(n-1)+fibonacci(n-2)\n",
    "for i in range(n+1):\n",
    "    print(fibonacci(i),end=\",\")"
   ]
  },
  {
   "cell_type": "markdown",
   "metadata": {},
   "source": [
    "### 07) WAP to find the factorial of a given number using recursion."
   ]
  },
  {
   "cell_type": "code",
   "execution_count": 10,
   "metadata": {},
   "outputs": [
    {
     "name": "stdout",
     "output_type": "stream",
     "text": [
      "Enter Number : 5\n",
      "120\n"
     ]
    }
   ],
   "source": [
    "n = int(input(\"Enter Number : \"))\n",
    "factorial = lambda n: 1 if n<=1 else factorial(n-1)*n\n",
    "print(factorial(n))"
   ]
  },
  {
   "cell_type": "markdown",
   "metadata": {},
   "source": [
    "### 08) WAP to implement simple calculator using lamda function."
   ]
  },
  {
   "cell_type": "code",
   "execution_count": 9,
   "metadata": {},
   "outputs": [
    {
     "name": "stdout",
     "output_type": "stream",
     "text": [
      "Enter Number : 2\n",
      "Enter Number : 2\n",
      "Enter Choice : +\n",
      "4\n"
     ]
    }
   ],
   "source": [
    "n1 = int(input(\"Enter Number : \"))\n",
    "n2 = int(input(\"Enter Number : \"))\n",
    "n3 = input(\"Enter Choice : \")\n",
    "ans = lambda n1,n2,n3 : n1+n2 if n3==\"+\" else n1-n2 if n3==\"-\" else n1*n2 if n3==\"*\" else n1//n2 if n3==\"/\" else \"Wrong Operation\"\n",
    "print(ans(n1,n2,n3))"
   ]
  },
  {
   "cell_type": "markdown",
   "metadata": {},
   "source": [
    "### 09)Write a Python program that accepts a hyphen-separated sequence of words as input and prints the words in a hyphen-separated sequence after sorting them alphabetically\n",
    "Sample Items : green-red-yellow-black-white <br>\n",
    "Expected Result : black-green-red-white-yellow"
   ]
  },
  {
   "cell_type": "code",
   "execution_count": 8,
   "metadata": {},
   "outputs": [
    {
     "name": "stdout",
     "output_type": "stream",
     "text": [
      "Enter Hyphen Seperated String :  green-red-yellow-black-white  black-green-red-white -yellow\n",
      " green-black-green-red-red-white -white  black-yellow-yellow\n"
     ]
    }
   ],
   "source": [
    "str1 = input(\"Enter Hyphen Seperated String : \")\n",
    "list1 = str1.split(\"-\")\n",
    "list1.sort()\n",
    "print(\"-\".join(list1))"
   ]
  },
  {
   "cell_type": "markdown",
   "metadata": {},
   "source": [
    "### 10) Write a python program to implement all function arguments type\n",
    "Positional arguments <Br>\n",
    "Default argument <Br>\n",
    "Keyword arguments (named arguments) <Br>\n",
    "Arbitrary arguments (variable-length arguments args and kwargs)"
   ]
  },
  {
   "cell_type": "code",
   "execution_count": 7,
   "metadata": {},
   "outputs": [
    {
     "name": "stdout",
     "output_type": "stream",
     "text": [
      "Enter Number : 10\n",
      "Enter Number : 20\n",
      "Positional arguments  30\n",
      "Enter Number : 10\n",
      "Default argument  20\n"
     ]
    }
   ],
   "source": [
    "a = int(input(\"Enter Number : \"))\n",
    "b = int(input(\"Enter Number : \"))\n",
    "positionalArguments = lambda a,b : a+b\n",
    "print(\"Positional arguments \",positionalArguments(a,b))\n",
    "\n",
    "a = int(input(\"Enter Number : \"))\n",
    "defaultArgument = lambda a,b=10 : a+b\n",
    "print(\"Default argument \",defaultArgument(a))"
   ]
  },
  {
   "cell_type": "code",
   "execution_count": 6,
   "metadata": {},
   "outputs": [
    {
     "name": "stdout",
     "output_type": "stream",
     "text": [
      "Enter Number : 10\n",
      "Enter Number : 20\n",
      "Keyword arguments (named arguments)  30\n",
      "Enter Number : 25\n",
      "Keyword arguments (named arguments)  40\n"
     ]
    }
   ],
   "source": [
    "\n",
    "a = int(input(\"Enter Number : \"))\n",
    "b = int(input(\"Enter Number : \"))\n",
    "def keywordArguments(a,b):\n",
    "    return a+b\n",
    "print(\"Keyword arguments (named arguments) \",keywordArguments(b=a,a=b))\n",
    "\n",
    "a = int(input(\"Enter Number : \"))\n",
    "def arbitraryArguments(a,*b):\n",
    "    sums = a\n",
    "    for i in b:\n",
    "        sums+=i\n",
    "    return sums\n",
    "print(\"Keyword arguments (named arguments) \",arbitraryArguments(a,5,10))"
   ]
  },
  {
   "cell_type": "markdown",
   "metadata": {},
   "source": [
    "### 01) WAP to calculate power of a number using recursion."
   ]
  },
  {
   "cell_type": "code",
   "execution_count": 5,
   "metadata": {},
   "outputs": [
    {
     "name": "stdout",
     "output_type": "stream",
     "text": [
      "Enter Number : 2\n",
      "Enter Number : 5\n"
     ]
    },
    {
     "data": {
      "text/plain": [
       "32"
      ]
     },
     "execution_count": 5,
     "metadata": {},
     "output_type": "execute_result"
    }
   ],
   "source": [
    "\n",
    "def powers(base,power):\n",
    "    if power==1:\n",
    "        return base\n",
    "    elif power==0:\n",
    "        return 1\n",
    "    else:\n",
    "        return base*powers(base,power-1)\n",
    "base = int(input(\"Enter Number : \"))\n",
    "power = int(input(\"Enter Number : \"))\n",
    "powers(base,power)"
   ]
  },
  {
   "cell_type": "markdown",
   "metadata": {},
   "source": [
    "### 02) WAP to count digits of a number using recursion."
   ]
  },
  {
   "cell_type": "code",
   "execution_count": 4,
   "metadata": {},
   "outputs": [
    {
     "name": "stdout",
     "output_type": "stream",
     "text": [
      "Enter Number : 153\n",
      "3\n"
     ]
    }
   ],
   "source": [
    "def countDigits(n):\n",
    "    if n<10:\n",
    "        return 1\n",
    "    else:\n",
    "        return 1+countDigits(n//10)\n",
    "\n",
    "\n",
    "n = int(input(\"Enter Number : \"))\n",
    "ans = countDigits(n)\n",
    "print(ans)"
   ]
  },
  {
   "cell_type": "markdown",
   "metadata": {},
   "source": [
    "### 03) WAP to reverse an integer number using recursion."
   ]
  },
  {
   "cell_type": "code",
   "execution_count": 3,
   "metadata": {},
   "outputs": [
    {
     "name": "stdout",
     "output_type": "stream",
     "text": [
      "Enter Number : 2563\n",
      "Reverse :  3652\n"
     ]
    }
   ],
   "source": [
    "reverse_number = 0\n",
    "def reverseNumber(n):\n",
    "    global reverse_number\n",
    "    if(n>0):\n",
    "        reminder = n%10\n",
    "        reverse_number = reverse_number*10 + reminder\n",
    "        reverseNumber(n//10)\n",
    "    return reverse_number\n",
    "\n",
    "\n",
    "n = int(input(\"Enter Number : \"))\n",
    "reverse_number = reverseNumber(n)\n",
    "print(\"Reverse : \",reverse_number)"
   ]
  },
  {
   "cell_type": "markdown",
   "metadata": {},
   "source": [
    "### 04) WAP to convert decimal number into binary using recursion."
   ]
  },
  {
   "cell_type": "code",
   "execution_count": 2,
   "metadata": {},
   "outputs": [
    {
     "name": "stdout",
     "output_type": "stream",
     "text": [
      "Enter Number : 45\n",
      "Binary :  101101\n"
     ]
    }
   ],
   "source": [
    "def decimalToBinary(n):\n",
    "    if n==0:\n",
    "        return 0\n",
    "    else:\n",
    "        return n%2+10*(decimalToBinary(n//2))\n",
    "\n",
    "n = int(input(\"Enter Number : \"))\n",
    "ans = decimalToBinary(n)\n",
    "print(\"Binary : \",ans)"
   ]
  },
  {
   "cell_type": "code",
   "execution_count": null,
   "metadata": {},
   "outputs": [],
   "source": []
  }
 ],
 "metadata": {
  "kernelspec": {
   "display_name": "Python 3 (ipykernel)",
   "language": "python",
   "name": "python3"
  },
  "language_info": {
   "codemirror_mode": {
    "name": "ipython",
    "version": 3
   },
   "file_extension": ".py",
   "mimetype": "text/x-python",
   "name": "python",
   "nbconvert_exporter": "python",
   "pygments_lexer": "ipython3",
   "version": "3.9.13"
  }
 },
 "nbformat": 4,
 "nbformat_minor": 4
}
