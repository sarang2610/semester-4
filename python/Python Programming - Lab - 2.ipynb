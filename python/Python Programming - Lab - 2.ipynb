{
 "cells": [
  {
   "cell_type": "markdown",
   "metadata": {},
   "source": [
    "\n",
    "<a href='https://www.darshan.ac.in/'> <img src='https://www.darshan.ac.in/Content/media/DU_Logo.svg' width=\"250\" height=\"300\"/></a>\n",
    "<pre>\n",
    "<center><b><h1>Python Programming - 2101CS405</b></center>\n",
    "<center><b><h1>Lab - 2</b></center>    \n",
    "<pre>"
   ]
  },
  {
   "cell_type": "markdown",
   "metadata": {},
   "source": [
    "# if..else.."
   ]
  },
  {
   "cell_type": "markdown",
   "metadata": {},
   "source": [
    "### 01) WAP to check whether the given number is positive or negative."
   ]
  },
  {
   "cell_type": "code",
   "execution_count": 3,
   "metadata": {},
   "outputs": [
    {
     "name": "stdout",
     "output_type": "stream",
     "text": [
      "enter number-6\n",
      "number is negative\n"
     ]
    }
   ],
   "source": [
    "a=int(input(\"enter number\"))\n",
    "if a>0:\n",
    "    print(\"number is positive\")\n",
    "else:\n",
    "    print(\"number is negative\")"
   ]
  },
  {
   "cell_type": "markdown",
   "metadata": {},
   "source": [
    "### 02) WAP to check whether the given number is odd or even"
   ]
  },
  {
   "cell_type": "code",
   "execution_count": 6,
   "metadata": {},
   "outputs": [
    {
     "name": "stdout",
     "output_type": "stream",
     "text": [
      "enter number39\n",
      "number is odd\n"
     ]
    }
   ],
   "source": [
    "a=int(input(\"enter number\"))\n",
    "if a/2==0:\n",
    "    print(\"number is even\")\n",
    "else:\n",
    "    print(\"number is odd\")"
   ]
  },
  {
   "cell_type": "markdown",
   "metadata": {},
   "source": [
    "### 03) WAP to find out largest number from given two numbers using simple if and ternary operator."
   ]
  },
  {
   "cell_type": "code",
   "execution_count": 8,
   "metadata": {},
   "outputs": [
    {
     "name": "stdout",
     "output_type": "stream",
     "text": [
      "enter number a4\n",
      "enter number b6\n",
      "6 is largest number\n"
     ]
    }
   ],
   "source": [
    "a=int(input(\"enter number a\"))\n",
    "b=int(input(\"enter number b\"))\n",
    "if a>b:\n",
    "    print(a,\"is largest number\")\n",
    "if a<b:\n",
    "    print(b,\"is largest number\")\n",
    "\n"
   ]
  },
  {
   "cell_type": "markdown",
   "metadata": {},
   "source": [
    "### 04) WAP to find out largest number from given three numbers."
   ]
  },
  {
   "cell_type": "code",
   "execution_count": 9,
   "metadata": {},
   "outputs": [
    {
     "name": "stdout",
     "output_type": "stream",
     "text": [
      "enter number a5\n",
      "enter number b8\n",
      "enter number c4\n",
      "8 is largest number\n"
     ]
    }
   ],
   "source": [
    "a=int(input(\"enter number a\"))\n",
    "b=int(input(\"enter number b\"))\n",
    "c=int(input(\"enter number c\"))\n",
    "if a>b and a>c:\n",
    "    print(a,\"is largest number\")\n",
    "if b>a and b>c:\n",
    "    print(b,\"is largest number\")\n",
    "else:\n",
    "    print(c,\"is lagest number\")"
   ]
  },
  {
   "cell_type": "markdown",
   "metadata": {},
   "source": [
    "### 05) WAP to check whether the given year is leap year or not.\n",
    "[If a year can be divisible by 4 but not divisible by 100 then it is leap year but if it is divisible by 400 then it is leap year]"
   ]
  },
  {
   "cell_type": "code",
   "execution_count": 2,
   "metadata": {},
   "outputs": [
    {
     "name": "stdout",
     "output_type": "stream",
     "text": [
      "Enter year2012\n",
      "2012 leap year\n"
     ]
    }
   ],
   "source": [
    "year=int(input(\"Enter year\"))\n",
    "if(year%4==0):\n",
    "    if(year%100!=0):\n",
    "        print(year,\"leap year\")\n",
    "else:\n",
    "    print(year,\"non-leap year\")"
   ]
  },
  {
   "cell_type": "markdown",
   "metadata": {},
   "source": [
    "### 06) WAP in python to display the name of the day according to the number given by the user"
   ]
  },
  {
   "cell_type": "code",
   "execution_count": 4,
   "metadata": {},
   "outputs": [
    {
     "name": "stdout",
     "output_type": "stream",
     "text": [
      "Enter number5\n",
      "friday\n"
     ]
    }
   ],
   "source": [
    "n=int(input(\"Enter number\"))\n",
    "if n==1:\n",
    "    print(\"monday\")\n",
    "elif n==2:\n",
    "    print(\"tuesday\")\n",
    "elif n==3:\n",
    "    print(\"wednesday\")\n",
    "elif n==4:\n",
    "    print(\"thursday\")\n",
    "elif n==5:\n",
    "    print(\"friday\")\n",
    "elif n==6:\n",
    "    print(\"saturday\")\n",
    "elif n==7:\n",
    "    print(\"sunday\")"
   ]
  },
  {
   "cell_type": "markdown",
   "metadata": {},
   "source": [
    " 07) WAP to implement simple calculator which performs (add,sub,mul,div) of two no. based on user input."
   ]
  },
  {
   "cell_type": "code",
   "execution_count": 1,
   "metadata": {},
   "outputs": [
    {
     "name": "stdout",
     "output_type": "stream",
     "text": [
      "enter number a5\n",
      "enter number b10\n",
      "select the process \n",
      " 1:addition 2:subtraction \n",
      " 3:multyplication 4:division1\n",
      "addition of number = 15\n"
     ]
    }
   ],
   "source": [
    "a=int(input(\"enter number a\"))\n",
    "b=int(input(\"enter number b\"))\n",
    "c=int(input(\"select the process \\n 1:addition 2:subtraction \\n 3:multyplication 4:division\"))\n",
    "if c==1:\n",
    "    print(\"addition of number =\",(a+b))\n",
    "elif c==2:\n",
    "    print(\"subtraction of number =\",(a-b))\n",
    "elif c==3:\n",
    "    print(\"addition of number =\",(a*b))\n",
    "elif c==4:\n",
    "    print(\"addition of number =\",(a/b))"
   ]
  },
  {
   "cell_type": "markdown",
   "metadata": {},
   "source": [
    "### 08) WAP to calculate electricity bill based on following criteria. Which takes the unit from the user.\n",
    "a. First 1 to 50 units – Rs. 2.60/unit</br>\n",
    "b. Next 50 to 100 units – Rs. 3.25/unit</br>\n",
    "c. Next 100 to 200 units – Rs. 5.26/unit</br>\n",
    "d. above 200 units – Rs. 8.45/unit"
   ]
  },
  {
   "cell_type": "code",
   "execution_count": null,
   "metadata": {},
   "outputs": [
    {
     "ename": "",
     "evalue": "",
     "output_type": "error",
     "traceback": [
      "\u001b[1;31mRunning cells with 'Python 3.10.8 64-bit (microsoft store)' requires ipykernel package.\n",
      "\u001b[1;31mRun the following command to install 'ipykernel' into the Python environment. \n",
      "\u001b[1;31mCommand: 'c:/Users/ASUS/AppData/Local/Microsoft/WindowsApps/python3.10.exe -m pip install ipykernel -U --force-reinstall'"
     ]
    }
   ],
   "source": [
    "u=int(input(\"enter total number of units\"))\n",
    "\n",
    "if u>1 and u<50:\n",
    "    print(\"total cost:\",2.60*u)\n",
    "elif u>=50 and u<100:\n",
    "    print(\"total cost:\",3.25*u)\n",
    "elif u>=100 and u<200:\n",
    "    print(\"total cost:\",5.26*u)\n",
    "elif u>200:\n",
    "    print(\"total cost:\",8.45*u)\n"
   ]
  },
  {
   "cell_type": "markdown",
   "metadata": {},
   "source": [
    "### 01) WAP to read marks of five subjects. Calculate percentage and print class accordingly. \n",
    "Fail below 35 </br>\n",
    "Pass Class between 35 to 45 </br>\n",
    "Second Class</br>\n",
    "between 45 to 60</br>\n",
    "First Class between 60 to 70</br> \n",
    "Distinction if more than 70"
   ]
  },
  {
   "cell_type": "code",
   "execution_count": null,
   "metadata": {},
   "outputs": [
    {
     "ename": "",
     "evalue": "",
     "output_type": "error",
     "traceback": [
      "\u001b[1;31mRunning cells with 'Python 3.10.8 64-bit (microsoft store)' requires ipykernel package.\n",
      "\u001b[1;31mRun the following command to install 'ipykernel' into the Python environment. \n",
      "\u001b[1;31mCommand: 'c:/Users/ASUS/AppData/Local/Microsoft/WindowsApps/python3.10.exe -m pip install ipykernel -U --force-reinstall'"
     ]
    }
   ],
   "source": [
    "m=int(input(\"enter marks of maths\"))\n",
    "w=int(input(\"enter marks of web technology\"))\n",
    "e=int(input(\"enter marks of english\"))\n",
    "p=int(input(\"enter marks of physics\"))\n",
    "d=int(input(\"enter marks of data structure\"))\n",
    "per=(m+w+e+p+d)/5\n",
    "\n",
    "if per<35:\n",
    "    print(\"result class: fail\")\n",
    "elif per>=35 and per<45:\n",
    "    print(\"result class: pass\")\n",
    "elif per>=45 and per<60:\n",
    "    print(\"result class: second\")\n",
    "elif per>=60 and per<70:\n",
    "    print(\"result class: first\")\n",
    "elif per>=70:\n",
    "    print(\"result class: distinction\")"
   ]
  },
  {
   "cell_type": "markdown",
   "metadata": {},
   "source": [
    "### 02) WAP to find out the Maximum and Minimum number from given 4 numbers."
   ]
  },
  {
   "cell_type": "code",
   "execution_count": null,
   "metadata": {},
   "outputs": [
    {
     "ename": "",
     "evalue": "",
     "output_type": "error",
     "traceback": [
      "\u001b[1;31mRunning cells with 'Python 3.10.8 64-bit (microsoft store)' requires ipykernel package.\n",
      "\u001b[1;31mRun the following command to install 'ipykernel' into the Python environment. \n",
      "\u001b[1;31mCommand: 'c:/Users/ASUS/AppData/Local/Microsoft/WindowsApps/python3.10.exe -m pip install ipykernel -U --force-reinstall'"
     ]
    }
   ],
   "source": [
    "a=int(input(\"enter first number\"))\n",
    "b=int(input(\"enter second number\"))\n",
    "c=int(input(\"enter third number\"))\n",
    "d=int(input(\"enter fourth number\"))\n",
    "\n",
    "if a>b and a>c and a>d:\n",
    "    if b>c and b>d:\n",
    "        if c>d:\n",
    "            print(\"number\",a,\"is maximum number and number\",d,\"is minimum number\")\n",
    "        else:\n",
    "            print(\"number\",a,\"is maximum number and number\",c,\"is minimum number\")\n",
    "    else:\n",
    "        print(\"number\",a,\"is maximum number and number\",b,\"is minimum number\")\n",
    "\n",
    "elif b>a and b>c and b>d:\n",
    "    if a>c and a>d:\n",
    "        if c>d:\n",
    "            print(\"number\",b,\"is maximum number and number\",d,\"is minimum number\")\n",
    "        else:\n",
    "            print(\"number\",b,\"is maximum number and number\",c,\"is minimum number\")\n",
    "    else:\n",
    "        print(\"number\",b,\"is maximum number and number\",a,\"is minimum number\")\n",
    "\n",
    "elif c>b and c>a and c>d:\n",
    "    if b>a and b>d:\n",
    "        if a>d:\n",
    "            print(\"number\",c,\"is maximum number and number\",d,\"is minimum number\")\n",
    "        else:\n",
    "            print(\"number\",c,\"is maximum number and number\",a,\"is minimum number\")\n",
    "    else:\n",
    "        print(\"number\",c,\"is maximum number and number\",b,\"is minimum number\")\n",
    "\n",
    "else:\n",
    "    print(\"number\",d,\"is maximum number and number\",a,\"is minimum number\")\n",
    "       "
   ]
  },
  {
   "cell_type": "markdown",
   "metadata": {},
   "source": [
    "### 03) WAP to input an integer number and check the last digit of number is even or odd."
   ]
  },
  {
   "cell_type": "code",
   "execution_count": null,
   "metadata": {},
   "outputs": [
    {
     "ename": "",
     "evalue": "",
     "output_type": "error",
     "traceback": [
      "\u001b[1;31mRunning cells with 'Python 3.10.8 64-bit (microsoft store)' requires ipykernel package.\n",
      "\u001b[1;31mRun the following command to install 'ipykernel' into the Python environment. \n",
      "\u001b[1;31mCommand: 'c:/Users/ASUS/AppData/Local/Microsoft/WindowsApps/python3.10.exe -m pip install ipykernel -U --force-reinstall'"
     ]
    }
   ],
   "source": [
    "a=int(input(\"enter number: \"))\n",
    "print(\"last digit of number even\" if a%2==0 else (\"last digit of number odd\"))"
   ]
  },
  {
   "cell_type": "markdown",
   "metadata": {},
   "source": [
    "### 04) WAP to determine the roots of the equation ax2+bx+c=0."
   ]
  },
  {
   "cell_type": "code",
   "execution_count": null,
   "metadata": {},
   "outputs": [
    {
     "ename": "",
     "evalue": "",
     "output_type": "error",
     "traceback": [
      "\u001b[1;31mRunning cells with 'Python 3.10.8 64-bit (microsoft store)' requires ipykernel package.\n",
      "\u001b[1;31mRun the following command to install 'ipykernel' into the Python environment. \n",
      "\u001b[1;31mCommand: 'c:/Users/ASUS/AppData/Local/Microsoft/WindowsApps/python3.10.exe -m pip install ipykernel -U --force-reinstall'"
     ]
    }
   ],
   "source": [
    "\n",
    "import math\n",
    "a = float(input(\"Enter Value Of a : \"))\n",
    "b = float(input(\"Enter Value Of b : \"))\n",
    "c = float(input(\"Enter Value Of c : \"))\n",
    "d = (b*b-4*a*c)\n",
    "val = math.sqrt(abs(d))\n",
    "if d > 0:\n",
    "    print(\"Real Roots\")\n",
    "    print(-b+val)/(2*a)\n",
    "    print(-b-val)/(2*a)\n",
    "elif d == 0:\n",
    "    print(\"Real & Same Roots : \", (-b)/(2*a))\n",
    "elif d < 0:\n",
    "    print(\"Complex Roots\")\n",
    "    print(-b/(2*a), \"+i\", val)\n",
    "    print(-b/(2*a), \"-i\", val)\n",
    "\n"
   ]
  }
 ],
 "metadata": {
  "kernelspec": {
   "display_name": "Python 3.10.8 64-bit (microsoft store)",
   "language": "python",
   "name": "python3"
  },
  "language_info": {
   "codemirror_mode": {
    "name": "ipython",
    "version": 3
   },
   "file_extension": ".py",
   "mimetype": "text/x-python",
   "name": "python",
   "nbconvert_exporter": "python",
   "pygments_lexer": "ipython3",
   "version": "3.10.8"
  },
  "vscode": {
   "interpreter": {
    "hash": "65a440aeac0c89e2af7569e0aa53b64434c4b69eb6285e2b0d174d9bca190d54"
   }
  }
 },
 "nbformat": 4,
 "nbformat_minor": 4
}
