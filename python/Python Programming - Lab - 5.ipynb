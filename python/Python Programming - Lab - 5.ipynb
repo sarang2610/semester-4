{
 "cells": [
  {
   "cell_type": "markdown",
   "metadata": {},
   "source": [
    "\n",
    "<a href='https://www.darshan.ac.in/'> <img src='https://www.darshan.ac.in/Content/media/DU_Logo.svg' width=\"250\" height=\"300\"/></a>\n",
    "<pre>\n",
    "<center><b><h1>Python Programming - 2101CS405</b></center>\n",
    "<center><b><h1>Lab - 5</b></center>    \n",
    "<pre>"
   ]
  },
  {
   "cell_type": "markdown",
   "metadata": {},
   "source": [
    "# list"
   ]
  },
  {
   "cell_type": "markdown",
   "metadata": {},
   "source": [
    "### 01) WAP to find sum of all the elements in List."
   ]
  },
  {
   "cell_type": "code",
   "execution_count": 1,
   "metadata": {},
   "outputs": [
    {
     "name": "stdout",
     "output_type": "stream",
     "text": [
      "total sum 10\n"
     ]
    }
   ],
   "source": [
    "mlist=[]\n",
    "a=int(input(\"the lentgh of list\"))\n",
    "for i in range(a):\n",
    "    i=int(input(\"enter element\"))\n",
    "    mlist.append(i)\n",
    "sum=0\n",
    "for i in my_list:\n",
    "    sum +=i\n",
    "print(f\"total sum {sum}\")"
   ]
  },
  {
   "cell_type": "markdown",
   "metadata": {},
   "source": [
    "### 02) WAP to find largest element in a List."
   ]
  },
  {
   "cell_type": "code",
   "execution_count": 7,
   "metadata": {},
   "outputs": [
    {
     "name": "stdout",
     "output_type": "stream",
     "text": [
      "13\n"
     ]
    }
   ],
   "source": [
    "mlist=[]\n",
    "a=int(input(\"the lentgh of list\"))\n",
    "for i in range(a):\n",
    "    i=int(input(\"enter element\"))\n",
    "    mlist.append(i)\n",
    "mlist.sort()\n",
    "print(mlist.pop())\n"
   ]
  },
  {
   "cell_type": "markdown",
   "metadata": {},
   "source": [
    "### 03) WAP to split the List into two and append the first part to the end."
   ]
  },
  {
   "cell_type": "code",
   "execution_count": 19,
   "metadata": {},
   "outputs": [
    {
     "name": "stdout",
     "output_type": "stream",
     "text": [
      "[3, 2, 6, 3, 5]\n",
      "[5, 6, 2, 4, 2]\n"
     ]
    }
   ],
   "source": [
    "mlist=[]\n",
    "a=int(input(\"the lentgh of list\"))\n",
    "for i in range(a):\n",
    "    i=int(input(\"enter element\"))\n",
    "    mlist.append(i)\n",
    "print(mlist)\n",
    "half=len(mlist)//2\n",
    "list1=mlist[0:half]\n",
    "list2=mlist[half:len(mlist)]\n",
    "list2.extend(list1)\n",
    "print(list2)"
   ]
  },
  {
   "cell_type": "markdown",
   "metadata": {},
   "source": [
    "### 04) WAP to interchange first and last elements in list entered by a user."
   ]
  },
  {
   "cell_type": "code",
   "execution_count": 11,
   "metadata": {},
   "outputs": [
    {
     "name": "stdout",
     "output_type": "stream",
     "text": [
      "[10, 2, 3, 4, 5, 6, 7, 8, 9, 1]\n"
     ]
    }
   ],
   "source": [
    "list1=[]\n",
    "a=int(input(\"the lentgh of list\"))\n",
    "for i in range(a):\n",
    "    i=int(input(\"enter element\"))\n",
    "    list1.append(i)\n",
    "list1[0],list1[-1]=list1[-1] , list1[0]\n",
    "print(list1)"
   ]
  },
  {
   "cell_type": "markdown",
   "metadata": {},
   "source": [
    "### 05) WAP to interchange the elements on two positions entered by a user."
   ]
  },
  {
   "cell_type": "code",
   "execution_count": 15,
   "metadata": {},
   "outputs": [
    {
     "name": "stdout",
     "output_type": "stream",
     "text": [
      "[6, 8, 4, 2, 5]\n",
      "[6, 8, 2, 4, 5]\n"
     ]
    }
   ],
   "source": [
    "list1=[]\n",
    "a=int(input(\"the lentgh of list\"))\n",
    "for i in range(a):\n",
    "    i=int(input(\"enter element\"))\n",
    "    list1.append(i)\n",
    "print(list1)\n",
    "b=int(input(\"enter first element\"))\n",
    "c=int(input(\"enter second element\"))\n",
    "list1[b],list1[c]=list1[c] , list1[b]\n",
    "print(list1)"
   ]
  },
  {
   "cell_type": "markdown",
   "metadata": {},
   "source": [
    "### 06) WAP to reverses the list entered by user."
   ]
  },
  {
   "cell_type": "code",
   "execution_count": 20,
   "metadata": {},
   "outputs": [
    {
     "name": "stdout",
     "output_type": "stream",
     "text": [
      "[34, 5, 4, 5, 7]\n",
      "[7, 5, 4, 5, 34]\n"
     ]
    }
   ],
   "source": [
    "list1=[]\n",
    "a=int(input(\"the lentgh of list\"))\n",
    "for i in range(a):\n",
    "    i=int(input(\"enter element\"))\n",
    "    list1.append(i)\n",
    "print(list1)\n",
    "list1.reverse()\n",
    "print(list1)"
   ]
  },
  {
   "cell_type": "markdown",
   "metadata": {},
   "source": [
    "### 07) Python program to remove multiple elements from a list using list comprehension"
   ]
  },
  {
   "cell_type": "code",
   "execution_count": 26,
   "metadata": {},
   "outputs": [
    {
     "name": "stdout",
     "output_type": "stream",
     "text": [
      "[1, 2, 3, 4, 5, 6, 7, 8, 9, 10]\n",
      "[1, 2, 3, 4, 5, 6, 10]\n"
     ]
    }
   ],
   "source": [
    "list1 = []\n",
    "n = int(input(\"Enter Number Of Element : \"))\n",
    "for i in range(n):\n",
    "    i = int(input())\n",
    "    list1.append(i)\n",
    "print(list1)\n",
    "n1 = int(input(\"Enter Number Of Element You Want To Delete: \"))\n",
    "for x in range(n1):\n",
    "    x = int(input(\"Enter Element You Want To Delete : \"))\n",
    "    list1.remove(x)\n",
    "print(list1)"
   ]
  },
  {
   "cell_type": "markdown",
   "metadata": {},
   "source": [
    "### 08) Create a list from the specified start to end index of another list."
   ]
  },
  {
   "cell_type": "code",
   "execution_count": null,
   "metadata": {},
   "outputs": [],
   "source": [
    "list1 = []\n",
    "n = int(input(\"Enter Number Of Element : \"))\n",
    "for i in range(n):\n",
    "    i = int(input())\n",
    "    list1.append(i)\n",
    "n1 = int(input(\"Enter Start Index : \"))\n",
    "n2 = int(input(\"Enter End Index : \"))\n",
    "list2=list1[n1:n2]\n",
    "print(list2)"
   ]
  },
  {
   "cell_type": "markdown",
   "metadata": {},
   "source": [
    "### 09) Input comma separated elements, convert into list and print."
   ]
  },
  {
   "cell_type": "code",
   "execution_count": 28,
   "metadata": {},
   "outputs": [
    {
     "name": "stdout",
     "output_type": "stream",
     "text": [
      "2,5,6,3,2,6,5,6,\n"
     ]
    }
   ],
   "source": [
    "list1 = []\n",
    "n1 = input(\"Enter Element : \")\n",
    "n1.split(\",\")\n",
    "list1.append(n1)\n",
    "print(list1)\n"
   ]
  },
  {
   "cell_type": "markdown",
   "metadata": {},
   "source": [
    "### 01) WAP to count Even and Odd numbers in a List."
   ]
  },
  {
   "cell_type": "code",
   "execution_count": 37,
   "metadata": {},
   "outputs": [
    {
     "name": "stdout",
     "output_type": "stream",
     "text": [
      "even number : 0\n",
      "odd number : 4\n"
     ]
    }
   ],
   "source": [
    "list1 = []\n",
    "odd , even =0,0\n",
    "n = int(input(\"Enter Number Of Element : \"))\n",
    "for i in range(n):\n",
    "    i = int(input())\n",
    "    list1.append(i)\n",
    "    if i%2==0:\n",
    "        even +=1\n",
    "    else:\n",
    "        odd +=1\n",
    "print(f\"even number : {even}\")\n",
    "print(f\"odd number : {odd}\")\n",
    "\n"
   ]
  },
  {
   "cell_type": "markdown",
   "metadata": {},
   "source": [
    "### 02) Python program to find N largest and smallest elements from the list"
   ]
  },
  {
   "cell_type": "code",
   "execution_count": 39,
   "metadata": {},
   "outputs": [
    {
     "name": "stdout",
     "output_type": "stream",
     "text": [
      "[2, 5, 4, 6]\n",
      "Smallest :  2\n",
      "Largest :  4\n"
     ]
    }
   ],
   "source": [
    "list1 = []\n",
    "\n",
    "n = int(input(\"Enter Number Of Element : \"))\n",
    "for i in range(n):\n",
    "    i = int(input())\n",
    "    list1.append(i)\n",
    "list1.sort()\n",
    "n = int(input(\"Enter Number : \"))\n",
    "print(\"Smallest : \",list1[0:n])\n",
    "length = len(list1)-n\n",
    "print(\"Largest : \",list1[length:])"
   ]
  },
  {
   "cell_type": "markdown",
   "metadata": {},
   "source": [
    "### 03) WAP to print duplicates from a list of integers"
   ]
  },
  {
   "cell_type": "code",
   "execution_count": 1,
   "metadata": {},
   "outputs": [
    {
     "name": "stdout",
     "output_type": "stream",
     "text": [
      "Enter Number Of Element : 5\n",
      "3\n",
      "2\n",
      "5\n",
      "5\n",
      "3\n",
      "3\n",
      "5\n"
     ]
    }
   ],
   "source": [
    "list1 = []\n",
    "input1 = 0\n",
    "n = int(input(\"Enter Number Of Element : \"))\n",
    "for i in range(n):\n",
    "    input1 = int(input())\n",
    "    list1.append(input1)\n",
    "list1.sort()\n",
    "for i in range(0,len(list1)-1):\n",
    "    if list1[i]==list1[i+1]:\n",
    "        print(list1[i])"
   ]
  },
  {
   "cell_type": "code",
   "execution_count": 9,
   "metadata": {},
   "outputs": [
    {
     "data": {
      "text/plain": [
       "6"
      ]
     },
     "execution_count": 9,
     "metadata": {},
     "output_type": "execute_result"
    }
   ],
   "source": [
    "a,b=5,6\n",
    "a,b= b,a\n",
    "a(q)"
   ]
  }
 ],
 "metadata": {
  "kernelspec": {
   "display_name": "Python 3 (ipykernel)",
   "language": "python",
   "name": "python3"
  },
  "language_info": {
   "codemirror_mode": {
    "name": "ipython",
    "version": 3
   },
   "file_extension": ".py",
   "mimetype": "text/x-python",
   "name": "python",
   "nbconvert_exporter": "python",
   "pygments_lexer": "ipython3",
   "version": "3.9.13"
  },
  "vscode": {
   "interpreter": {
    "hash": "07521bee647cb038a9765ea0ecd3eab4d12b5f5b9eec9493f2d4acdd5b019b2b"
   }
  }
 },
 "nbformat": 4,
 "nbformat_minor": 4
}
