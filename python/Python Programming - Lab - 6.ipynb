{
 "cells": [
  {
   "cell_type": "markdown",
   "metadata": {},
   "source": [
    "<a href='https://www.darshan.ac.in/'> <img src='https://www.darshan.ac.in/Content/media/DU_Logo.svg' width=\"250\" height=\"300\"/></a>\n",
    "<pre>\n",
    "<center><b><h1>Python Programming - 2101CS405</b></center>\n",
    "<center><b><h1>Lab - 6</b></center>    \n",
    "<pre>"
   ]
  },
  {
   "cell_type": "markdown",
   "metadata": {},
   "source": [
    "# Tuples, dictionary, set"
   ]
  },
  {
   "cell_type": "markdown",
   "metadata": {},
   "source": [
    "# A"
   ]
  },
  {
   "cell_type": "markdown",
   "metadata": {},
   "source": [
    "### 01) WAP to sort python dictionary by key or value."
   ]
  },
  {
   "cell_type": "code",
   "execution_count": 2,
   "metadata": {},
   "outputs": [
    {
     "name": "stdout",
     "output_type": "stream",
     "text": [
      "sorted dictionary by keys :  {'city': 'rajkot', 'name': 'darshan', 'state': 'gujrat', 'type': 'university'}\n",
      "sorted dictionary by values :  {'name': 'darshan', 'state': 'gujrat', 'city': 'rajkot', 'type': 'university'}\n"
     ]
    }
   ],
   "source": [
    "my_dict={'name':\"darshan\",'type':\"university\",'city':\"rajkot\",'state':\"gujrat\"}\n",
    "sorteddictbykeys= sorted(my_dict.items(),key=lambda X:X[0])\n",
    "sorteddictbyvalues= sorted(my_dict.items(),key=lambda X:X[1])\n",
    "print(\"sorted dictionary by keys : \",dict(sorteddictbykeys))\n",
    "print(\"sorted dictionary by values : \",dict(sorteddictbyvalues))\n"
   ]
  },
  {
   "cell_type": "markdown",
   "metadata": {},
   "source": [
    "### 02) WAP to merge two dictionaries given by user."
   ]
  },
  {
   "cell_type": "code",
   "execution_count": 3,
   "metadata": {},
   "outputs": [
    {
     "name": "stdout",
     "output_type": "stream",
     "text": [
      "enter length of dictionary12\n",
      "enter keys:name\n",
      "enter values:sarang\n",
      "enter keys:roll no\n",
      "enter values:251\n",
      "enter length of dictionary22\n",
      "enter keys:city\n",
      "enter values:rajkot\n",
      "enter keys:college\n",
      "enter values:darshan\n",
      "{'name': 'sarang', 'roll no': '251', 'city': 'rajkot', 'college': 'darshan'}\n"
     ]
    }
   ],
   "source": [
    "def Makedictionary(n):\n",
    "    my_dict = {}\n",
    "    for i in range(n):\n",
    "        keys = input(\"enter keys:\")\n",
    "        values= input(\"enter values:\")\n",
    "        my_dict[keys] = values\n",
    "    return my_dict\n",
    "\n",
    "length1=int(input(\"enter length of dictionary1\"))\n",
    "dict1=Makedictionary(length1)\n",
    "\n",
    "length2=int(input(\"enter length of dictionary2\"))\n",
    "dict2=Makedictionary(length2)\n",
    "\n",
    "dict3=dict1|dict2\n",
    "\n",
    "print(dict3)"
   ]
  },
  {
   "cell_type": "markdown",
   "metadata": {},
   "source": [
    "### 03) WAP to find tuples that have all elements divisible by K from a list of tuples."
   ]
  },
  {
   "cell_type": "code",
   "execution_count": 3,
   "metadata": {},
   "outputs": [
    {
     "name": "stdout",
     "output_type": "stream",
     "text": [
      "enter size of list of tuple3\n",
      "enter size of tuple2\n",
      "enter value2\n",
      "enter value3\n",
      "enter value2\n",
      "enter value3\n",
      "enter value21\n",
      "enter value12\n",
      "enter value of k2\n",
      "[2, 2]\n"
     ]
    }
   ],
   "source": [
    "def Maketuple(size):\n",
    "    list1 = []\n",
    "    for i in range(size):\n",
    "        val=int(input(\"enter value\"))\n",
    "        list1.append(val)\n",
    "    return tuple(list1)\n",
    "list1=[]\n",
    "sizeoflistoftuple=int(input(\"enter size of list of tuple\"))\n",
    "sizeoftuple=int(input(\"enter size of tuple\"))\n",
    "for i in range(sizeoflistoftuple):\n",
    "    list1.append(Maketuple(sizeoftuple))\n",
    "\n",
    "k=int(input(\"enter value of k\"))\n",
    "tupledivisiblebyk= []\n",
    "for i in list1:\n",
    "    for j in i:\n",
    "        if j%k!=0:\n",
    "            break\n",
    "        else:\n",
    "            tupledivisiblebyk.append(j)\n",
    "print(tupledivisiblebyk)\n"
   ]
  },
  {
   "cell_type": "markdown",
   "metadata": {},
   "source": [
    "# 04) WAP to find Tuples with positive elements in List of tuples."
   ]
  },
  {
   "cell_type": "code",
   "execution_count": 3,
   "metadata": {},
   "outputs": [
    {
     "name": "stdout",
     "output_type": "stream",
     "text": [
      "enter size of list of tuple3\n",
      "enter size of tuple2\n",
      "enter value2\n",
      "enter value3\n",
      "enter value2\n",
      "enter value-3\n",
      "enter value-3\n",
      "enter value-2\n",
      "[(2, 3)]\n"
     ]
    }
   ],
   "source": [
    "def Maketuple(size):\n",
    "    list1 = []\n",
    "    for i in range(size):\n",
    "        val=int(input(\"enter value\"))\n",
    "        list1.append(val)\n",
    "    return tuple(list1)\n",
    "list1=[]\n",
    "sizeoflistoftuple=int(input(\"enter size of list of tuple\"))\n",
    "sizeoftuple=int(input(\"enter size of tuple\"))\n",
    "for i in range(sizeoflistoftuple):\n",
    "    list1.append(Maketuple(sizeoftuple))\n",
    "\n",
    "\n",
    "tupledivisiblebyk= []\n",
    "for i in list1:\n",
    "    for j in i:\n",
    "        if j<0:\n",
    "            break\n",
    "    else:\n",
    "        tupledivisiblebyk.append(i)\n",
    "print(tupledivisiblebyk)"
   ]
  },
  {
   "cell_type": "markdown",
   "metadata": {},
   "source": [
    "### 05) WAP which perform union of two sets."
   ]
  },
  {
   "cell_type": "code",
   "execution_count": null,
   "metadata": {},
   "outputs": [
    {
     "name": "stdout",
     "output_type": "stream",
     "text": [
      "{0, 1, 2, 3, 4, 5, 6, 7, 8, 9, 10}\n"
     ]
    }
   ],
   "source": [
    "lengthset1=print(\"enter length of set1\")\n",
    "set1={}\n",
    "set2={}\n",
    "for i in range(lengthset1):\n",
    "    s=int(input(\"enter elements\"))\n",
    "    set1.append(s)\n",
    "lengthset2=print(\"enter length of set2\")\n",
    "for i in range(lengthset2):\n",
    "    u=int(input(\"enter elements\"))\n",
    "    set1.append(u)\n",
    "\n",
    "\n",
    "# set3=(set1.union(set2))\n",
    "print(set1)\n",
    "print(set1)"
   ]
  },
  {
   "cell_type": "markdown",
   "metadata": {},
   "source": [
    "# B"
   ]
  },
  {
   "cell_type": "markdown",
   "metadata": {},
   "source": [
    "### 01) WAP to convert binary tuple into integer."
   ]
  },
  {
   "cell_type": "code",
   "execution_count": 7,
   "metadata": {},
   "outputs": [
    {
     "name": "stdout",
     "output_type": "stream",
     "text": [
      "enter size of tuple3\n",
      "enter value1\n",
      "enter value0\n",
      "enter value1\n",
      "tuple (1, 0, 1)\n",
      "binary: 5.0\n"
     ]
    }
   ],
   "source": [
    "def Maketuple(size):\n",
    "    list1 = []\n",
    "    for i in range(size):\n",
    "        val=int(input(\"enter value\"))\n",
    "        list1.append(val)\n",
    "    return tuple(list1)\n",
    "sizeoftuple=int(input(\"enter size of tuple\"))\n",
    "ans=0.0\n",
    "tuple1= Maketuple(sizeoftuple)\n",
    "size=len(tuple1)-1\n",
    "for i in tuple1:\n",
    "    ans+=i*2**size\n",
    "    size-=1\n",
    "print(\"tuple\",tuple1)\n",
    "print(\"binary:\",ans)"
   ]
  },
  {
   "cell_type": "markdown",
   "metadata": {},
   "source": [
    "## 02) WAP to count frequency in list by dictionary."
   ]
  },
  {
   "cell_type": "code",
   "execution_count": 9,
   "metadata": {},
   "outputs": [
    {
     "name": "stdout",
     "output_type": "stream",
     "text": [
      "enter element for list:23334215\n",
      "{'2': 2, '3': 3, '4': 1, '1': 1, '5': 1}\n"
     ]
    }
   ],
   "source": [
    "element=input(\"enter element for list:\")\n",
    "listofelement=(list(element))\n",
    "def countfrequency(listofelement):\n",
    "    freq={}\n",
    "    for i in listofelement:\n",
    "        if(i in freq):\n",
    "            freq[i] +=1\n",
    "        else:\n",
    "            freq[i]=1\n",
    "    return freq\n",
    "        \n",
    "\n",
    "val= countfrequency(listofelement)\n",
    "print(val)"
   ]
  },
  {
   "cell_type": "markdown",
   "metadata": {},
   "source": [
    "### 03) WAP to remove all the duplicate words from the list using dictionary."
   ]
  },
  {
   "cell_type": "code",
   "execution_count": 1,
   "metadata": {},
   "outputs": [
    {
     "name": "stdout",
     "output_type": "stream",
     "text": [
      "['a', 's', 'd', 'f']\n"
     ]
    }
   ],
   "source": [
    "my_list =['a','s','a','d','f','f']\n",
    "du=list(dict.fromkeys(my_list))\n",
    "print(du)"
   ]
  },
  {
   "cell_type": "code",
   "execution_count": null,
   "metadata": {},
   "outputs": [],
   "source": []
  }
 ],
 "metadata": {
  "kernelspec": {
   "display_name": "Python 3",
   "language": "python",
   "name": "python3"
  },
  "language_info": {
   "codemirror_mode": {
    "name": "ipython",
    "version": 3
   },
   "file_extension": ".py",
   "mimetype": "text/x-python",
   "name": "python",
   "nbconvert_exporter": "python",
   "pygments_lexer": "ipython3",
   "version": "3.10.8 (tags/v3.10.8:aaaf517, Oct 11 2022, 16:50:30) [MSC v.1933 64 bit (AMD64)]"
  },
  "vscode": {
   "interpreter": {
    "hash": "65a440aeac0c89e2af7569e0aa53b64434c4b69eb6285e2b0d174d9bca190d54"
   }
  }
 },
 "nbformat": 4,
 "nbformat_minor": 4
}
