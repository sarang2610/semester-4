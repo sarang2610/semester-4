{
 "cells": [
  {
   "cell_type": "markdown",
   "metadata": {},
   "source": [
    "<a href='https://www.darshan.ac.in/'> <img src='https://www.darshan.ac.in/Content/media/DU_Logo.svg' width=\"250\" height=\"300\"/></a>\n",
    "<pre>\n",
    "<center><b><h1>Python Programming - 2101CS405</b></center>\n",
    "<center><b><h1>Lab - 1</b></center>    \n",
    "<pre>"
   ]
  },
  {
   "cell_type": "markdown",
   "metadata": {},
   "source": [
    "### 01) WAP to print “Hello World”"
   ]
  },
  {
   "cell_type": "code",
   "execution_count": 1,
   "metadata": {},
   "outputs": [
    {
     "name": "stdout",
     "output_type": "stream",
     "text": [
      "hello world\n"
     ]
    }
   ],
   "source": [
    "print(\"hello world\")"
   ]
  },
  {
   "cell_type": "markdown",
   "metadata": {},
   "source": [
    "### 02) WAP to print your address i) using single print ii) using multiple print"
   ]
  },
  {
   "cell_type": "code",
   "execution_count": 4,
   "metadata": {},
   "outputs": [
    {
     "name": "stdout",
     "output_type": "stream",
     "text": [
      "xyz \n",
      " abc \n",
      "\n",
      "xyz \n"
     ]
    }
   ],
   "source": [
    "print(\"xyz \\n abc \\n\")\n",
    "print(\"xyz \")"
   ]
  },
  {
   "cell_type": "markdown",
   "metadata": {},
   "source": [
    "### 03) WAP to print addition of 2 numbers (without input function)"
   ]
  },
  {
   "cell_type": "code",
   "execution_count": 3,
   "metadata": {},
   "outputs": [
    {
     "name": "stdout",
     "output_type": "stream",
     "text": [
      "50\n"
     ]
    }
   ],
   "source": [
    "a=20\n",
    "b=30\n",
    "print(a+b)"
   ]
  },
  {
   "cell_type": "markdown",
   "metadata": {},
   "source": [
    "### 04) WAP to calculate and print average of 2 numbers (without input function)"
   ]
  },
  {
   "cell_type": "code",
   "execution_count": 6,
   "metadata": {},
   "outputs": [
    {
     "name": "stdout",
     "output_type": "stream",
     "text": [
      "25.0\n"
     ]
    }
   ],
   "source": [
    "a=20\n",
    "b=30\n",
    "print((a+b)/2)"
   ]
  },
  {
   "cell_type": "markdown",
   "metadata": {},
   "source": [
    "### 05) WAP to add two number entered by user."
   ]
  },
  {
   "cell_type": "code",
   "execution_count": 7,
   "metadata": {},
   "outputs": [
    {
     "name": "stdout",
     "output_type": "stream",
     "text": [
      "enter no 1:21\n",
      "enter no 2:21\n",
      "42\n"
     ]
    }
   ],
   "source": [
    "a=int(input(\"enter no 1:\"))\n",
    "b=int(input(\"enter no 2:\"))\n",
    "print(a+b)"
   ]
  },
  {
   "cell_type": "markdown",
   "metadata": {},
   "source": [
    "### 06) WAP to calculate simple interest."
   ]
  },
  {
   "cell_type": "code",
   "execution_count": 9,
   "metadata": {},
   "outputs": [
    {
     "name": "stdout",
     "output_type": "stream",
     "text": [
      "enter no p:5\n",
      "enter no r:5\n",
      "enter no n:5\n",
      "1.25\n"
     ]
    }
   ],
   "source": [
    "p=int(input(\"enter no p:\"))\n",
    "r=int(input(\"enter no r:\"))\n",
    "n=int(input(\"enter no n:\"))\n",
    "print(p*r*n/100)"
   ]
  },
  {
   "cell_type": "markdown",
   "metadata": {},
   "source": [
    "### 07) WAP Calculate Area and Circumfrence of Circle"
   ]
  },
  {
   "cell_type": "code",
   "execution_count": 11,
   "metadata": {},
   "outputs": [
    {
     "name": "stdout",
     "output_type": "stream",
     "text": [
      "enter no r:2\n",
      "area : 12.56\n",
      " Circumfrence: 12.56\n"
     ]
    }
   ],
   "source": [
    "r=int(input(\"enter no r:\"))\n",
    "print(\"area :\" ,3.14*r*r)\n",
    "print(\" Circumfrence:\", 2*3.14*r)\n",
    "\n"
   ]
  },
  {
   "cell_type": "markdown",
   "metadata": {},
   "source": [
    "### 08) WAP to print Multiplication table of given number without using loops."
   ]
  },
  {
   "cell_type": "code",
   "execution_count": 25,
   "metadata": {},
   "outputs": [
    {
     "name": "stdout",
     "output_type": "stream",
     "text": [
      "enter no n:4\n",
      "4 * 1 = 4\n",
      "4 * 2 = 8\n",
      "4 * 3 + 12\n",
      "4 * 4 = 16\n",
      "4 * 5 = 20\n",
      "4 * 6 = 24\n",
      "4 * 7 = 28\n",
      "4 * 8 = 32\n",
      "4 * 9 = 36\n",
      "4 * 10 = 40\n"
     ]
    }
   ],
   "source": [
    "n=int(input(\"enter no n:\"))\n",
    "print(n,\"*\",1,\"=\",n*1)\n",
    "print(n,\"*\",2,\"=\",n*2)\n",
    "print(n,\"*\",3,\"+\",n*3)\n",
    "print(n,\"*\",4,\"=\",n*4)\n",
    "print(n,\"*\",5,\"=\",n*5)\n",
    "print(n,\"*\",6,\"=\",n*6)\n",
    "print(n,\"*\",7,\"=\",n*7)\n",
    "print(n,\"*\",8,\"=\",n*8)\n",
    "print(n,\"*\",9,\"=\",n*9)\n",
    "print(n,\"*\",10,\"=\",n*10)"
   ]
  },
  {
   "cell_type": "markdown",
   "metadata": {},
   "source": [
    "### 09) WAP to calculate Area of Triangle (hint: a = h * b * 0.5)"
   ]
  },
  {
   "cell_type": "code",
   "execution_count": 27,
   "metadata": {},
   "outputs": [
    {
     "name": "stdout",
     "output_type": "stream",
     "text": [
      "enter  h:4\n",
      "enter no b:5\n",
      "a= 10.0\n"
     ]
    }
   ],
   "source": [
    "h=int(input(\"enter  h:\"))\n",
    "b=int(input(\"enter no b:\"))\n",
    "print(\"a=\",h*b*0.5)"
   ]
  },
  {
   "cell_type": "markdown",
   "metadata": {},
   "source": [
    "### 10) WAP to convert degree to Fahrenheit and vice versa."
   ]
  },
  {
   "cell_type": "code",
   "execution_count": 28,
   "metadata": {},
   "outputs": [
    {
     "name": "stdout",
     "output_type": "stream",
     "text": [
      "enter  fer:41\n",
      "5.0\n",
      "enter  cel:12\n",
      "53.6\n"
     ]
    }
   ],
   "source": [
    "f=int(input(\"enter  fer:\"))\n",
    "print((f-32)*5/9)\n",
    "c=int(input(\"enter  cel:\"))\n",
    "print(c*9/5+32)"
   ]
  },
  {
   "cell_type": "markdown",
   "metadata": {},
   "source": [
    "### 11) WAP to calculate total marks and Percentage."
   ]
  },
  {
   "cell_type": "code",
   "execution_count": 29,
   "metadata": {},
   "outputs": [
    {
     "name": "stdout",
     "output_type": "stream",
     "text": [
      "enter  marks of maths:50\n",
      "enter  marks of physics:60\n",
      "enter  marks of chemestry:70\n",
      "total 180\n",
      "percentage 60.0 %\n"
     ]
    }
   ],
   "source": [
    "m=int(input(\"enter  marks of maths:\"))\n",
    "p=int(input(\"enter  marks of physics:\"))\n",
    "c=int(input(\"enter  marks of chemestry:\"))\n",
    "print(\"total\",m+p+c)\n",
    "print(\"percentage\",(m+p+c)/3,\"%\")"
   ]
  },
  {
   "cell_type": "markdown",
   "metadata": {},
   "source": [
    "### 12) Compute distance between two points taking input from the user (Pythagorean Theorem)."
   ]
  },
  {
   "cell_type": "code",
   "execution_count": 1,
   "metadata": {},
   "outputs": [
    {
     "name": "stdout",
     "output_type": "stream",
     "text": [
      "enter x11\n",
      "enter x21\n",
      "enter y11\n",
      "enter y21\n",
      "0.0\n"
     ]
    }
   ],
   "source": [
    "x1=int(input(\"enter x1\"))\n",
    "x2=int(input(\"enter x2\"))\n",
    "y1=int(input(\"enter y1\"))\n",
    "y2=int(input(\"enter y2\"))\n",
    "cooridinates= (((x1-x2)**2)+((y1-y2)**2))**0.5\n",
    "print(cooridinates)"
   ]
  },
  {
   "cell_type": "markdown",
   "metadata": {},
   "source": [
    "### 13) WAP to convert seconds into hours, minutes & seconds and print in HH:MM:SS\n",
    "[e.g. 10000 seconds mean 2:46:40 (2 Hours, 46 Minutes, 40Seconds)]"
   ]
  },
  {
   "cell_type": "code",
   "execution_count": 1,
   "metadata": {},
   "outputs": [
    {
     "name": "stdout",
     "output_type": "stream",
     "text": [
      "enter second3600\n",
      "1.0 : 0.0 : 0\n"
     ]
    }
   ],
   "source": [
    "s=int(input(\"enter second\"))\n",
    "h=s/3600\n",
    "m=(s%3600)/60\n",
    "s=(s%60)\n",
    "print(h,\":\",m,\":\",s)"
   ]
  },
  {
   "cell_type": "markdown",
   "metadata": {},
   "source": [
    "### 14) WAP to enter distance into kilometer and convert it into meter, feet,inches, and centimeter"
   ]
  },
  {
   "cell_type": "code",
   "execution_count": 5,
   "metadata": {},
   "outputs": [
    {
     "name": "stdout",
     "output_type": "stream",
     "text": [
      "enter distannce1\n",
      "1 = 1000 meter 3280.84 feet 39370.1 inch 100000 centimeter\n"
     ]
    }
   ],
   "source": [
    "k=int(input(\"enter distannce\"))\n",
    "m=k*1000\n",
    "f=k*3280.84\n",
    "i=k*39370.1\n",
    "c=k*100000\n",
    "print(k,\"=\",m,\"meter\",f,\"feet\",i,\"inch\",c,\"centimeter\")"
   ]
  },
  {
   "cell_type": "code",
   "execution_count": null,
   "metadata": {},
   "outputs": [],
   "source": []
  }
 ],
 "metadata": {
  "kernelspec": {
   "display_name": "Python 3 (ipykernel)",
   "language": "python",
   "name": "python3"
  },
  "language_info": {
   "codemirror_mode": {
    "name": "ipython",
    "version": 3
   },
   "file_extension": ".py",
   "mimetype": "text/x-python",
   "name": "python",
   "nbconvert_exporter": "python",
   "pygments_lexer": "ipython3",
   "version": "3.9.7"
  }
 },
 "nbformat": 4,
 "nbformat_minor": 4
}
